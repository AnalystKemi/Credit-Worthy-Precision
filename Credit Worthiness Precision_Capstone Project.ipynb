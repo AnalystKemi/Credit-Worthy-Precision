{
 "cells": [
  {
   "cell_type": "code",
   "execution_count": 3954,
   "id": "411eb66c-6b8c-464f-996a-7a30e5d03bf2",
   "metadata": {},
   "outputs": [],
   "source": [
    "############## Step 1: Data pre-processing ##############\n",
    "\n",
    "import pandas as pd\n",
    "import numpy as np\n",
    "import seaborn as sns\n",
    "import matplotlib.pyplot as plt"
   ]
  },
  {
   "cell_type": "code",
   "execution_count": 3956,
   "id": "ab99be01-cc84-4c1f-96e8-26422cb014ea",
   "metadata": {},
   "outputs": [
    {
     "data": {
      "text/html": [
       "<div>\n",
       "<style scoped>\n",
       "    .dataframe tbody tr th:only-of-type {\n",
       "        vertical-align: middle;\n",
       "    }\n",
       "\n",
       "    .dataframe tbody tr th {\n",
       "        vertical-align: top;\n",
       "    }\n",
       "\n",
       "    .dataframe thead th {\n",
       "        text-align: right;\n",
       "    }\n",
       "</style>\n",
       "<table border=\"1\" class=\"dataframe\">\n",
       "  <thead>\n",
       "    <tr style=\"text-align: right;\">\n",
       "      <th></th>\n",
       "      <th>ID</th>\n",
       "      <th>Loan_ID</th>\n",
       "      <th>Gender</th>\n",
       "      <th>Married</th>\n",
       "      <th>Dependents</th>\n",
       "      <th>Education</th>\n",
       "      <th>Self_Employed</th>\n",
       "      <th>ApplicantIncome</th>\n",
       "      <th>CoapplicantIncome</th>\n",
       "      <th>LoanAmount</th>\n",
       "      <th>Loan_Amount_Term</th>\n",
       "      <th>Credit_History</th>\n",
       "      <th>Property_Area</th>\n",
       "      <th>Loan_Status</th>\n",
       "      <th>Total_Income</th>\n",
       "    </tr>\n",
       "  </thead>\n",
       "  <tbody>\n",
       "    <tr>\n",
       "      <th>0</th>\n",
       "      <td>74768</td>\n",
       "      <td>LP002231</td>\n",
       "      <td>1</td>\n",
       "      <td>1</td>\n",
       "      <td>0</td>\n",
       "      <td>1</td>\n",
       "      <td>0</td>\n",
       "      <td>8328</td>\n",
       "      <td>0.000000</td>\n",
       "      <td>17</td>\n",
       "      <td>363</td>\n",
       "      <td>1</td>\n",
       "      <td>2</td>\n",
       "      <td>1</td>\n",
       "      <td>6000</td>\n",
       "    </tr>\n",
       "    <tr>\n",
       "      <th>1</th>\n",
       "      <td>79428</td>\n",
       "      <td>LP001448</td>\n",
       "      <td>1</td>\n",
       "      <td>1</td>\n",
       "      <td>0</td>\n",
       "      <td>0</td>\n",
       "      <td>0</td>\n",
       "      <td>150</td>\n",
       "      <td>3857.458782</td>\n",
       "      <td>188</td>\n",
       "      <td>370</td>\n",
       "      <td>1</td>\n",
       "      <td>1</td>\n",
       "      <td>0</td>\n",
       "      <td>6000</td>\n",
       "    </tr>\n",
       "    <tr>\n",
       "      <th>2</th>\n",
       "      <td>70497</td>\n",
       "      <td>LP002231</td>\n",
       "      <td>0</td>\n",
       "      <td>0</td>\n",
       "      <td>0</td>\n",
       "      <td>0</td>\n",
       "      <td>0</td>\n",
       "      <td>4989</td>\n",
       "      <td>314.472511</td>\n",
       "      <td>17</td>\n",
       "      <td>348</td>\n",
       "      <td>1</td>\n",
       "      <td>0</td>\n",
       "      <td>0</td>\n",
       "      <td>6000</td>\n",
       "    </tr>\n",
       "    <tr>\n",
       "      <th>3</th>\n",
       "      <td>87480</td>\n",
       "      <td>LP001385</td>\n",
       "      <td>1</td>\n",
       "      <td>1</td>\n",
       "      <td>0</td>\n",
       "      <td>0</td>\n",
       "      <td>0</td>\n",
       "      <td>150</td>\n",
       "      <td>0.000000</td>\n",
       "      <td>232</td>\n",
       "      <td>359</td>\n",
       "      <td>1</td>\n",
       "      <td>1</td>\n",
       "      <td>1</td>\n",
       "      <td>3750</td>\n",
       "    </tr>\n",
       "    <tr>\n",
       "      <th>4</th>\n",
       "      <td>33964</td>\n",
       "      <td>LP002231</td>\n",
       "      <td>1</td>\n",
       "      <td>1</td>\n",
       "      <td>1</td>\n",
       "      <td>0</td>\n",
       "      <td>0</td>\n",
       "      <td>8059</td>\n",
       "      <td>0.000000</td>\n",
       "      <td>17</td>\n",
       "      <td>372</td>\n",
       "      <td>1</td>\n",
       "      <td>0</td>\n",
       "      <td>1</td>\n",
       "      <td>3750</td>\n",
       "    </tr>\n",
       "    <tr>\n",
       "      <th>5</th>\n",
       "      <td>20364</td>\n",
       "      <td>LP001778</td>\n",
       "      <td>0</td>\n",
       "      <td>1</td>\n",
       "      <td>0</td>\n",
       "      <td>0</td>\n",
       "      <td>0</td>\n",
       "      <td>1911</td>\n",
       "      <td>4145.477647</td>\n",
       "      <td>65</td>\n",
       "      <td>373</td>\n",
       "      <td>1</td>\n",
       "      <td>2</td>\n",
       "      <td>1</td>\n",
       "      <td>6000</td>\n",
       "    </tr>\n",
       "    <tr>\n",
       "      <th>6</th>\n",
       "      <td>63354</td>\n",
       "      <td>LP002180</td>\n",
       "      <td>1</td>\n",
       "      <td>1</td>\n",
       "      <td>3+</td>\n",
       "      <td>0</td>\n",
       "      <td>0</td>\n",
       "      <td>7121</td>\n",
       "      <td>926.791025</td>\n",
       "      <td>17</td>\n",
       "      <td>425</td>\n",
       "      <td>1</td>\n",
       "      <td>1</td>\n",
       "      <td>1</td>\n",
       "      <td>6000</td>\n",
       "    </tr>\n",
       "    <tr>\n",
       "      <th>7</th>\n",
       "      <td>67110</td>\n",
       "      <td>LP002585</td>\n",
       "      <td>1</td>\n",
       "      <td>1</td>\n",
       "      <td>1</td>\n",
       "      <td>0</td>\n",
       "      <td>0</td>\n",
       "      <td>3417</td>\n",
       "      <td>647.162564</td>\n",
       "      <td>17</td>\n",
       "      <td>366</td>\n",
       "      <td>1</td>\n",
       "      <td>0</td>\n",
       "      <td>1</td>\n",
       "      <td>6000</td>\n",
       "    </tr>\n",
       "    <tr>\n",
       "      <th>8</th>\n",
       "      <td>69254</td>\n",
       "      <td>LP001385</td>\n",
       "      <td>1</td>\n",
       "      <td>1</td>\n",
       "      <td>1</td>\n",
       "      <td>1</td>\n",
       "      <td>0</td>\n",
       "      <td>15965</td>\n",
       "      <td>0.000000</td>\n",
       "      <td>17</td>\n",
       "      <td>347</td>\n",
       "      <td>1</td>\n",
       "      <td>2</td>\n",
       "      <td>1</td>\n",
       "      <td>6000</td>\n",
       "    </tr>\n",
       "    <tr>\n",
       "      <th>9</th>\n",
       "      <td>92855</td>\n",
       "      <td>LP002175</td>\n",
       "      <td>1</td>\n",
       "      <td>1</td>\n",
       "      <td>0</td>\n",
       "      <td>0</td>\n",
       "      <td>0</td>\n",
       "      <td>150</td>\n",
       "      <td>0.000000</td>\n",
       "      <td>268</td>\n",
       "      <td>373</td>\n",
       "      <td>1</td>\n",
       "      <td>2</td>\n",
       "      <td>1</td>\n",
       "      <td>3750</td>\n",
       "    </tr>\n",
       "  </tbody>\n",
       "</table>\n",
       "</div>"
      ],
      "text/plain": [
       "      ID   Loan_ID  Gender  Married Dependents  Education  Self_Employed  \\\n",
       "0  74768  LP002231       1        1          0          1              0   \n",
       "1  79428  LP001448       1        1          0          0              0   \n",
       "2  70497  LP002231       0        0          0          0              0   \n",
       "3  87480  LP001385       1        1          0          0              0   \n",
       "4  33964  LP002231       1        1          1          0              0   \n",
       "5  20364  LP001778       0        1          0          0              0   \n",
       "6  63354  LP002180       1        1         3+          0              0   \n",
       "7  67110  LP002585       1        1          1          0              0   \n",
       "8  69254  LP001385       1        1          1          1              0   \n",
       "9  92855  LP002175       1        1          0          0              0   \n",
       "\n",
       "   ApplicantIncome  CoapplicantIncome  LoanAmount  Loan_Amount_Term  \\\n",
       "0             8328           0.000000          17               363   \n",
       "1              150        3857.458782         188               370   \n",
       "2             4989         314.472511          17               348   \n",
       "3              150           0.000000         232               359   \n",
       "4             8059           0.000000          17               372   \n",
       "5             1911        4145.477647          65               373   \n",
       "6             7121         926.791025          17               425   \n",
       "7             3417         647.162564          17               366   \n",
       "8            15965           0.000000          17               347   \n",
       "9              150           0.000000         268               373   \n",
       "\n",
       "   Credit_History  Property_Area  Loan_Status  Total_Income  \n",
       "0               1              2            1          6000  \n",
       "1               1              1            0          6000  \n",
       "2               1              0            0          6000  \n",
       "3               1              1            1          3750  \n",
       "4               1              0            1          3750  \n",
       "5               1              2            1          6000  \n",
       "6               1              1            1          6000  \n",
       "7               1              0            1          6000  \n",
       "8               1              2            1          6000  \n",
       "9               1              2            1          3750  "
      ]
     },
     "execution_count": 3956,
     "metadata": {},
     "output_type": "execute_result"
    }
   ],
   "source": [
    "### Load dataset and display the first 10 rows\n",
    "\n",
    "df = pd.read_csv('/Users/ngocdiepnguyen/Downloads/Train.csv')\n",
    "df.head(10)"
   ]
  },
  {
   "cell_type": "code",
   "execution_count": 3958,
   "id": "7f083d7c-8ef0-4406-9c0d-07c5e53e533d",
   "metadata": {},
   "outputs": [
    {
     "name": "stdout",
     "output_type": "stream",
     "text": [
      "<class 'pandas.core.frame.DataFrame'>\n",
      "RangeIndex: 5898 entries, 0 to 5897\n",
      "Data columns (total 15 columns):\n",
      " #   Column             Non-Null Count  Dtype  \n",
      "---  ------             --------------  -----  \n",
      " 0   ID                 5898 non-null   int64  \n",
      " 1   Loan_ID            5898 non-null   object \n",
      " 2   Gender             5898 non-null   int64  \n",
      " 3   Married            5898 non-null   int64  \n",
      " 4   Dependents         5898 non-null   object \n",
      " 5   Education          5898 non-null   int64  \n",
      " 6   Self_Employed      5898 non-null   int64  \n",
      " 7   ApplicantIncome    5898 non-null   int64  \n",
      " 8   CoapplicantIncome  5898 non-null   float64\n",
      " 9   LoanAmount         5898 non-null   int64  \n",
      " 10  Loan_Amount_Term   5898 non-null   int64  \n",
      " 11  Credit_History     5898 non-null   int64  \n",
      " 12  Property_Area      5898 non-null   int64  \n",
      " 13  Loan_Status        5898 non-null   int64  \n",
      " 14  Total_Income       5898 non-null   int64  \n",
      "dtypes: float64(1), int64(12), object(2)\n",
      "memory usage: 691.3+ KB\n"
     ]
    }
   ],
   "source": [
    "### Detect missing data/values\n",
    "\n",
    "df.info()\n",
    "\n",
    "# There is 1 float, 12 integers and 2 object data types\n",
    "# Complete dataset, no missing values"
   ]
  },
  {
   "cell_type": "code",
   "execution_count": 3960,
   "id": "458c612b-2027-46e3-86d1-3c0a6d8b4209",
   "metadata": {},
   "outputs": [
    {
     "data": {
      "text/html": [
       "<div>\n",
       "<style scoped>\n",
       "    .dataframe tbody tr th:only-of-type {\n",
       "        vertical-align: middle;\n",
       "    }\n",
       "\n",
       "    .dataframe tbody tr th {\n",
       "        vertical-align: top;\n",
       "    }\n",
       "\n",
       "    .dataframe thead th {\n",
       "        text-align: right;\n",
       "    }\n",
       "</style>\n",
       "<table border=\"1\" class=\"dataframe\">\n",
       "  <thead>\n",
       "    <tr style=\"text-align: right;\">\n",
       "      <th></th>\n",
       "      <th>ID</th>\n",
       "      <th>Gender</th>\n",
       "      <th>Married</th>\n",
       "      <th>Education</th>\n",
       "      <th>Self_Employed</th>\n",
       "      <th>ApplicantIncome</th>\n",
       "      <th>CoapplicantIncome</th>\n",
       "      <th>LoanAmount</th>\n",
       "      <th>Loan_Amount_Term</th>\n",
       "      <th>Credit_History</th>\n",
       "      <th>Property_Area</th>\n",
       "      <th>Loan_Status</th>\n",
       "      <th>Total_Income</th>\n",
       "    </tr>\n",
       "  </thead>\n",
       "  <tbody>\n",
       "    <tr>\n",
       "      <th>count</th>\n",
       "      <td>5898.000000</td>\n",
       "      <td>5898.000000</td>\n",
       "      <td>5898.000000</td>\n",
       "      <td>5898.000000</td>\n",
       "      <td>5898.000000</td>\n",
       "      <td>5898.000000</td>\n",
       "      <td>5898.000000</td>\n",
       "      <td>5898.000000</td>\n",
       "      <td>5898.000000</td>\n",
       "      <td>5898.000000</td>\n",
       "      <td>5898.000000</td>\n",
       "      <td>5898.000000</td>\n",
       "      <td>5898.000000</td>\n",
       "    </tr>\n",
       "    <tr>\n",
       "      <th>mean</th>\n",
       "      <td>54964.183452</td>\n",
       "      <td>0.910817</td>\n",
       "      <td>0.854527</td>\n",
       "      <td>0.120210</td>\n",
       "      <td>0.107664</td>\n",
       "      <td>7782.026958</td>\n",
       "      <td>1245.954548</td>\n",
       "      <td>97.410478</td>\n",
       "      <td>359.114954</td>\n",
       "      <td>0.920482</td>\n",
       "      <td>1.183961</td>\n",
       "      <td>0.832994</td>\n",
       "      <td>5239.284503</td>\n",
       "    </tr>\n",
       "    <tr>\n",
       "      <th>std</th>\n",
       "      <td>26133.640949</td>\n",
       "      <td>0.285032</td>\n",
       "      <td>0.352607</td>\n",
       "      <td>0.325235</td>\n",
       "      <td>0.309981</td>\n",
       "      <td>9182.571831</td>\n",
       "      <td>2368.012349</td>\n",
       "      <td>103.483478</td>\n",
       "      <td>48.876088</td>\n",
       "      <td>0.270569</td>\n",
       "      <td>0.730568</td>\n",
       "      <td>0.373013</td>\n",
       "      <td>2308.679455</td>\n",
       "    </tr>\n",
       "    <tr>\n",
       "      <th>min</th>\n",
       "      <td>10002.000000</td>\n",
       "      <td>0.000000</td>\n",
       "      <td>0.000000</td>\n",
       "      <td>0.000000</td>\n",
       "      <td>0.000000</td>\n",
       "      <td>150.000000</td>\n",
       "      <td>0.000000</td>\n",
       "      <td>17.000000</td>\n",
       "      <td>12.000000</td>\n",
       "      <td>0.000000</td>\n",
       "      <td>0.000000</td>\n",
       "      <td>0.000000</td>\n",
       "      <td>1963.000000</td>\n",
       "    </tr>\n",
       "    <tr>\n",
       "      <th>25%</th>\n",
       "      <td>32337.000000</td>\n",
       "      <td>1.000000</td>\n",
       "      <td>1.000000</td>\n",
       "      <td>0.000000</td>\n",
       "      <td>0.000000</td>\n",
       "      <td>2342.250000</td>\n",
       "      <td>0.000000</td>\n",
       "      <td>17.000000</td>\n",
       "      <td>357.000000</td>\n",
       "      <td>1.000000</td>\n",
       "      <td>1.000000</td>\n",
       "      <td>1.000000</td>\n",
       "      <td>3750.000000</td>\n",
       "    </tr>\n",
       "    <tr>\n",
       "      <th>50%</th>\n",
       "      <td>55501.000000</td>\n",
       "      <td>1.000000</td>\n",
       "      <td>1.000000</td>\n",
       "      <td>0.000000</td>\n",
       "      <td>0.000000</td>\n",
       "      <td>6989.000000</td>\n",
       "      <td>117.562275</td>\n",
       "      <td>42.000000</td>\n",
       "      <td>368.000000</td>\n",
       "      <td>1.000000</td>\n",
       "      <td>1.000000</td>\n",
       "      <td>1.000000</td>\n",
       "      <td>6000.000000</td>\n",
       "    </tr>\n",
       "    <tr>\n",
       "      <th>75%</th>\n",
       "      <td>77775.750000</td>\n",
       "      <td>1.000000</td>\n",
       "      <td>1.000000</td>\n",
       "      <td>0.000000</td>\n",
       "      <td>0.000000</td>\n",
       "      <td>8375.000000</td>\n",
       "      <td>1680.894542</td>\n",
       "      <td>174.000000</td>\n",
       "      <td>372.000000</td>\n",
       "      <td>1.000000</td>\n",
       "      <td>2.000000</td>\n",
       "      <td>1.000000</td>\n",
       "      <td>6000.000000</td>\n",
       "    </tr>\n",
       "    <tr>\n",
       "      <th>max</th>\n",
       "      <td>99998.000000</td>\n",
       "      <td>1.000000</td>\n",
       "      <td>1.000000</td>\n",
       "      <td>1.000000</td>\n",
       "      <td>1.000000</td>\n",
       "      <td>81000.000000</td>\n",
       "      <td>20000.000000</td>\n",
       "      <td>700.000000</td>\n",
       "      <td>480.000000</td>\n",
       "      <td>1.000000</td>\n",
       "      <td>2.000000</td>\n",
       "      <td>1.000000</td>\n",
       "      <td>22500.000000</td>\n",
       "    </tr>\n",
       "  </tbody>\n",
       "</table>\n",
       "</div>"
      ],
      "text/plain": [
       "                 ID       Gender      Married    Education  Self_Employed  \\\n",
       "count   5898.000000  5898.000000  5898.000000  5898.000000    5898.000000   \n",
       "mean   54964.183452     0.910817     0.854527     0.120210       0.107664   \n",
       "std    26133.640949     0.285032     0.352607     0.325235       0.309981   \n",
       "min    10002.000000     0.000000     0.000000     0.000000       0.000000   \n",
       "25%    32337.000000     1.000000     1.000000     0.000000       0.000000   \n",
       "50%    55501.000000     1.000000     1.000000     0.000000       0.000000   \n",
       "75%    77775.750000     1.000000     1.000000     0.000000       0.000000   \n",
       "max    99998.000000     1.000000     1.000000     1.000000       1.000000   \n",
       "\n",
       "       ApplicantIncome  CoapplicantIncome   LoanAmount  Loan_Amount_Term  \\\n",
       "count      5898.000000        5898.000000  5898.000000       5898.000000   \n",
       "mean       7782.026958        1245.954548    97.410478        359.114954   \n",
       "std        9182.571831        2368.012349   103.483478         48.876088   \n",
       "min         150.000000           0.000000    17.000000         12.000000   \n",
       "25%        2342.250000           0.000000    17.000000        357.000000   \n",
       "50%        6989.000000         117.562275    42.000000        368.000000   \n",
       "75%        8375.000000        1680.894542   174.000000        372.000000   \n",
       "max       81000.000000       20000.000000   700.000000        480.000000   \n",
       "\n",
       "       Credit_History  Property_Area  Loan_Status  Total_Income  \n",
       "count     5898.000000    5898.000000  5898.000000   5898.000000  \n",
       "mean         0.920482       1.183961     0.832994   5239.284503  \n",
       "std          0.270569       0.730568     0.373013   2308.679455  \n",
       "min          0.000000       0.000000     0.000000   1963.000000  \n",
       "25%          1.000000       1.000000     1.000000   3750.000000  \n",
       "50%          1.000000       1.000000     1.000000   6000.000000  \n",
       "75%          1.000000       2.000000     1.000000   6000.000000  \n",
       "max          1.000000       2.000000     1.000000  22500.000000  "
      ]
     },
     "execution_count": 3960,
     "metadata": {},
     "output_type": "execute_result"
    }
   ],
   "source": [
    "# For descriptive statistics\n",
    "\n",
    "df.describe()\n",
    "\n",
    "# Not many participants seem to be self-employed\n",
    "# Most participants have an undergraduate degree\n",
    "# Average applicant monthly income is $7,782 \n",
    "# Average loan amount is $97,400\n",
    "# Loan amount terms are around 359 months ≈ 30 years (is that normal?)\n",
    "# Average total income is $5,329 -> how come this is way less than the average applicant's monthly income?"
   ]
  },
  {
   "cell_type": "code",
   "execution_count": 3962,
   "id": "7a08a2eb-195d-4894-9610-6c79c3d75bc1",
   "metadata": {},
   "outputs": [
    {
     "data": {
      "text/plain": [
       "ID                   0\n",
       "Loan_ID              0\n",
       "Gender               0\n",
       "Married              0\n",
       "Dependents           0\n",
       "Education            0\n",
       "Self_Employed        0\n",
       "ApplicantIncome      0\n",
       "CoapplicantIncome    0\n",
       "LoanAmount           0\n",
       "Loan_Amount_Term     0\n",
       "Credit_History       0\n",
       "Property_Area        0\n",
       "Loan_Status          0\n",
       "Total_Income         0\n",
       "dtype: int64"
      ]
     },
     "execution_count": 3962,
     "metadata": {},
     "output_type": "execute_result"
    }
   ],
   "source": [
    "# To confirm, there are no missing values\n",
    "\n",
    "df.isnull().sum()"
   ]
  },
  {
   "cell_type": "code",
   "execution_count": 3964,
   "id": "b90baad9-9077-4393-b8e0-2dd877693ea2",
   "metadata": {},
   "outputs": [],
   "source": [
    "### Drop ID and Loan_ID\n",
    "\n",
    "df = df.drop(['ID', 'Loan_ID', 'Total_Income'], axis=1)"
   ]
  },
  {
   "cell_type": "code",
   "execution_count": 3966,
   "id": "dc44b6b0-ace6-40be-a370-35173c5d66ad",
   "metadata": {},
   "outputs": [
    {
     "data": {
      "text/html": [
       "<div>\n",
       "<style scoped>\n",
       "    .dataframe tbody tr th:only-of-type {\n",
       "        vertical-align: middle;\n",
       "    }\n",
       "\n",
       "    .dataframe tbody tr th {\n",
       "        vertical-align: top;\n",
       "    }\n",
       "\n",
       "    .dataframe thead th {\n",
       "        text-align: right;\n",
       "    }\n",
       "</style>\n",
       "<table border=\"1\" class=\"dataframe\">\n",
       "  <thead>\n",
       "    <tr style=\"text-align: right;\">\n",
       "      <th></th>\n",
       "      <th>Gender</th>\n",
       "      <th>Married</th>\n",
       "      <th>Dependents</th>\n",
       "      <th>Education</th>\n",
       "      <th>Self_Employed</th>\n",
       "      <th>ApplicantIncome</th>\n",
       "      <th>CoapplicantIncome</th>\n",
       "      <th>LoanAmount</th>\n",
       "      <th>Loan_Amount_Term</th>\n",
       "      <th>Credit_History</th>\n",
       "      <th>Property_Area</th>\n",
       "      <th>Loan_Status</th>\n",
       "    </tr>\n",
       "  </thead>\n",
       "  <tbody>\n",
       "    <tr>\n",
       "      <th>0</th>\n",
       "      <td>1</td>\n",
       "      <td>1</td>\n",
       "      <td>0</td>\n",
       "      <td>1</td>\n",
       "      <td>0</td>\n",
       "      <td>8328</td>\n",
       "      <td>0.000000</td>\n",
       "      <td>17</td>\n",
       "      <td>363</td>\n",
       "      <td>1</td>\n",
       "      <td>2</td>\n",
       "      <td>1</td>\n",
       "    </tr>\n",
       "    <tr>\n",
       "      <th>1</th>\n",
       "      <td>1</td>\n",
       "      <td>1</td>\n",
       "      <td>0</td>\n",
       "      <td>0</td>\n",
       "      <td>0</td>\n",
       "      <td>150</td>\n",
       "      <td>3857.458782</td>\n",
       "      <td>188</td>\n",
       "      <td>370</td>\n",
       "      <td>1</td>\n",
       "      <td>1</td>\n",
       "      <td>0</td>\n",
       "    </tr>\n",
       "    <tr>\n",
       "      <th>2</th>\n",
       "      <td>0</td>\n",
       "      <td>0</td>\n",
       "      <td>0</td>\n",
       "      <td>0</td>\n",
       "      <td>0</td>\n",
       "      <td>4989</td>\n",
       "      <td>314.472511</td>\n",
       "      <td>17</td>\n",
       "      <td>348</td>\n",
       "      <td>1</td>\n",
       "      <td>0</td>\n",
       "      <td>0</td>\n",
       "    </tr>\n",
       "    <tr>\n",
       "      <th>3</th>\n",
       "      <td>1</td>\n",
       "      <td>1</td>\n",
       "      <td>0</td>\n",
       "      <td>0</td>\n",
       "      <td>0</td>\n",
       "      <td>150</td>\n",
       "      <td>0.000000</td>\n",
       "      <td>232</td>\n",
       "      <td>359</td>\n",
       "      <td>1</td>\n",
       "      <td>1</td>\n",
       "      <td>1</td>\n",
       "    </tr>\n",
       "    <tr>\n",
       "      <th>4</th>\n",
       "      <td>1</td>\n",
       "      <td>1</td>\n",
       "      <td>1</td>\n",
       "      <td>0</td>\n",
       "      <td>0</td>\n",
       "      <td>8059</td>\n",
       "      <td>0.000000</td>\n",
       "      <td>17</td>\n",
       "      <td>372</td>\n",
       "      <td>1</td>\n",
       "      <td>0</td>\n",
       "      <td>1</td>\n",
       "    </tr>\n",
       "    <tr>\n",
       "      <th>5</th>\n",
       "      <td>0</td>\n",
       "      <td>1</td>\n",
       "      <td>0</td>\n",
       "      <td>0</td>\n",
       "      <td>0</td>\n",
       "      <td>1911</td>\n",
       "      <td>4145.477647</td>\n",
       "      <td>65</td>\n",
       "      <td>373</td>\n",
       "      <td>1</td>\n",
       "      <td>2</td>\n",
       "      <td>1</td>\n",
       "    </tr>\n",
       "    <tr>\n",
       "      <th>6</th>\n",
       "      <td>1</td>\n",
       "      <td>1</td>\n",
       "      <td>3</td>\n",
       "      <td>0</td>\n",
       "      <td>0</td>\n",
       "      <td>7121</td>\n",
       "      <td>926.791025</td>\n",
       "      <td>17</td>\n",
       "      <td>425</td>\n",
       "      <td>1</td>\n",
       "      <td>1</td>\n",
       "      <td>1</td>\n",
       "    </tr>\n",
       "    <tr>\n",
       "      <th>7</th>\n",
       "      <td>1</td>\n",
       "      <td>1</td>\n",
       "      <td>1</td>\n",
       "      <td>0</td>\n",
       "      <td>0</td>\n",
       "      <td>3417</td>\n",
       "      <td>647.162564</td>\n",
       "      <td>17</td>\n",
       "      <td>366</td>\n",
       "      <td>1</td>\n",
       "      <td>0</td>\n",
       "      <td>1</td>\n",
       "    </tr>\n",
       "    <tr>\n",
       "      <th>8</th>\n",
       "      <td>1</td>\n",
       "      <td>1</td>\n",
       "      <td>1</td>\n",
       "      <td>1</td>\n",
       "      <td>0</td>\n",
       "      <td>15965</td>\n",
       "      <td>0.000000</td>\n",
       "      <td>17</td>\n",
       "      <td>347</td>\n",
       "      <td>1</td>\n",
       "      <td>2</td>\n",
       "      <td>1</td>\n",
       "    </tr>\n",
       "    <tr>\n",
       "      <th>9</th>\n",
       "      <td>1</td>\n",
       "      <td>1</td>\n",
       "      <td>0</td>\n",
       "      <td>0</td>\n",
       "      <td>0</td>\n",
       "      <td>150</td>\n",
       "      <td>0.000000</td>\n",
       "      <td>268</td>\n",
       "      <td>373</td>\n",
       "      <td>1</td>\n",
       "      <td>2</td>\n",
       "      <td>1</td>\n",
       "    </tr>\n",
       "  </tbody>\n",
       "</table>\n",
       "</div>"
      ],
      "text/plain": [
       "   Gender  Married  Dependents  Education  Self_Employed  ApplicantIncome  \\\n",
       "0       1        1           0          1              0             8328   \n",
       "1       1        1           0          0              0              150   \n",
       "2       0        0           0          0              0             4989   \n",
       "3       1        1           0          0              0              150   \n",
       "4       1        1           1          0              0             8059   \n",
       "5       0        1           0          0              0             1911   \n",
       "6       1        1           3          0              0             7121   \n",
       "7       1        1           1          0              0             3417   \n",
       "8       1        1           1          1              0            15965   \n",
       "9       1        1           0          0              0              150   \n",
       "\n",
       "   CoapplicantIncome  LoanAmount  Loan_Amount_Term  Credit_History  \\\n",
       "0           0.000000          17               363               1   \n",
       "1        3857.458782         188               370               1   \n",
       "2         314.472511          17               348               1   \n",
       "3           0.000000         232               359               1   \n",
       "4           0.000000          17               372               1   \n",
       "5        4145.477647          65               373               1   \n",
       "6         926.791025          17               425               1   \n",
       "7         647.162564          17               366               1   \n",
       "8           0.000000          17               347               1   \n",
       "9           0.000000         268               373               1   \n",
       "\n",
       "   Property_Area  Loan_Status  \n",
       "0              2            1  \n",
       "1              1            0  \n",
       "2              0            0  \n",
       "3              1            1  \n",
       "4              0            1  \n",
       "5              2            1  \n",
       "6              1            1  \n",
       "7              0            1  \n",
       "8              2            1  \n",
       "9              2            1  "
      ]
     },
     "execution_count": 3966,
     "metadata": {},
     "output_type": "execute_result"
    }
   ],
   "source": [
    "### Turn objects into numeric binary labels\n",
    "\n",
    "binary_cols = ['Dependents']\n",
    "le = LabelEncoder()\n",
    "for col in binary_cols:\n",
    "    df[col] = le.fit_transform(df[col])\n",
    "\n",
    "df.head(10)"
   ]
  },
  {
   "cell_type": "code",
   "execution_count": 3968,
   "id": "4782c0ea-0e7e-41cb-bf11-0dba80ee42b9",
   "metadata": {},
   "outputs": [
    {
     "name": "stdout",
     "output_type": "stream",
     "text": [
      "[]\n"
     ]
    }
   ],
   "source": [
    "### Identify categorical columns (excluding target and numeric types)\n",
    "categorical_cols = df.select_dtypes(include=['object']).columns.tolist()\n",
    "\n",
    "print(categorical_cols)\n",
    "\n",
    "# There are no categorical columns"
   ]
  },
  {
   "cell_type": "code",
   "execution_count": 3970,
   "id": "750e2bb9-fb9f-42c5-85b1-f33514ef0c35",
   "metadata": {},
   "outputs": [],
   "source": [
    "############## Step 2: Data exploration ##############\n",
    "############## Who tends to default? Does age, income, or education correlate with creditworthiness? ##############"
   ]
  },
  {
   "cell_type": "code",
   "execution_count": 3972,
   "id": "be7b6f3b-5c5a-499d-9f0c-a07dc81c9203",
   "metadata": {},
   "outputs": [
    {
     "data": {
      "image/png": "[encoded data removed]",
      "text/plain": [
       "<Figure size 640x480 with 1 Axes>"
      ]
     },
     "metadata": {},
     "output_type": "display_data"
    }
   ],
   "source": [
    "### Distribution of Loan Status\n",
    "\n",
    "sns.countplot(x='Loan_Status', data=df)\n",
    "plt.title('Loan Status')\n",
    "plt.show()\n",
    "\n",
    "# 5000 applications have been approved, while 1000 applicants have not been approved\n",
    "# Unbalanced dataset"
   ]
  },
  {
   "cell_type": "code",
   "execution_count": 3974,
   "id": "a3e5887f-7cfb-4e44-9d29-ce0ac63ee155",
   "metadata": {},
   "outputs": [
    {
     "data": {
      "image/png": "[encoded data removed]",
      "text/plain": [
       "<Figure size 640x480 with 1 Axes>"
      ]
     },
     "metadata": {},
     "output_type": "display_data"
    }
   ],
   "source": [
    "### Distribution of Loan Amount\n",
    "\n",
    "sns.histplot(df['LoanAmount'], kde=True)\n",
    "plt.title('Loan Amount')\n",
    "plt.show()\n",
    "\n",
    "# The majority of applications (almost 3,000) requested a loan amount of approx. $25,000\n",
    "# About 300 applications requested approx. $250,000\n",
    "# There is a small amount of applications requesting more than $250,000"
   ]
  },
  {
   "cell_type": "code",
   "execution_count": 3976,
   "id": "afac4d98-4c82-4098-bef8-6a099068741a",
   "metadata": {},
   "outputs": [
    {
     "data": {
      "image/png": "[encoded data removed]",
      "text/plain": [
       "<Figure size 640x480 with 1 Axes>"
      ]
     },
     "metadata": {},
     "output_type": "display_data"
    }
   ],
   "source": [
    "### Bivariate analysis: Comparison between Loan Amount and Applicant Income\n",
    "\n",
    "sns.histplot(df['ApplicantIncome'], kde=True)\n",
    "plt.title('Applicant Income')\n",
    "plt.show()\n",
    "\n",
    "# There are applicants with no income, most are distributed at around $8,000"
   ]
  },
  {
   "cell_type": "code",
   "execution_count": 3977,
   "id": "475c7c47-40bf-4387-a046-d3d901d64960",
   "metadata": {},
   "outputs": [
    {
     "data": {
      "image/png": "[encoded data removed]",
      "text/plain": [
       "<Figure size 640x480 with 1 Axes>"
      ]
     },
     "metadata": {},
     "output_type": "display_data"
    }
   ],
   "source": [
    "### Bivariate analysis: Comparison between Loan Status and Applicant Income\n",
    "\n",
    "sns.boxplot(x='Loan_Status', y='ApplicantIncome', data=df)\n",
    "plt.title('Loan Status vs. Applicant Income')\n",
    "plt.show()\n",
    "\n",
    "# The majority of denied applicants have an income between $1,000 and $9,000 with very few outliers having $75,000 and over $80,000\n",
    "# The majority of approved applicants also have income between $1,000 and $9,000, with more outliers having higher income overall"
   ]
  },
  {
   "cell_type": "code",
   "execution_count": 3979,
   "id": "a7aef040-8d86-4864-b837-d63061b82729",
   "metadata": {},
   "outputs": [
    {
     "data": {
      "image/png": "[encoded data removed]",
      "text/plain": [
       "<Figure size 640x480 with 1 Axes>"
      ]
     },
     "metadata": {},
     "output_type": "display_data"
    }
   ],
   "source": [
    "### Bivariate analysis: Comparison between Marital Status and Loan Status\n",
    "\n",
    "sns.countplot(x='Married', hue='Loan_Status', data=df)\n",
    "plt.title('Marital Status vs. Loan Status')\n",
    "plt.show()\n",
    "\n",
    "# The trend is that married applicants (4000+) tend to be approved for loans more than non-married applicants (700).\n",
    "# But keep in mind that the dataset also has more married individuals than non-married individuals\n",
    "# It could be that more married individuals apply for loans than non-married individuals"
   ]
  },
  {
   "cell_type": "code",
   "execution_count": 3982,
   "id": "7e6c1731-84ad-406e-a6a3-4fb81f0cc6c5",
   "metadata": {},
   "outputs": [
    {
     "data": {
      "image/png": "[encoded data removed]",
      "text/plain": [
       "<Figure size 640x480 with 1 Axes>"
      ]
     },
     "metadata": {},
     "output_type": "display_data"
    }
   ],
   "source": [
    "### Bivariate analysis: Comparison between Gender and Loan Status\n",
    "\n",
    "sns.countplot(x='Gender', hue='Loan_Status', data=df)\n",
    "plt.title('Gender vs. Loan Status')\n",
    "plt.show()\n",
    "\n",
    "# Only about 500 women apply for loans, whereas it is the case with more than 5,000 men.\n",
    "# Hence, more men get approved for loans than women."
   ]
  },
  {
   "cell_type": "code",
   "execution_count": 3984,
   "id": "2a971cd6-e107-4a7b-9f57-5414e22dae43",
   "metadata": {},
   "outputs": [
    {
     "data": {
      "image/png": "[encoded data removed]",
      "text/plain": [
       "<Figure size 640x480 with 1 Axes>"
      ]
     },
     "metadata": {},
     "output_type": "display_data"
    }
   ],
   "source": [
    "### Bivariate analysis: Comparison between Dependents and Loan Status\n",
    "\n",
    "sns.countplot(x='Dependents', hue='Loan_Status', data=df)\n",
    "plt.title('Dependents vs. Loan Status')\n",
    "plt.show()\n",
    "\n",
    "# Those who do not have dependents (about 3,500) tend to apply for loans more than those with 1 or more dependents.\n",
    "# It is interesting to note that the number of loan applicants with two or threeP dependants is roughly the same."
   ]
  },
  {
   "cell_type": "code",
   "execution_count": 3986,
   "id": "4095af41-fb2a-489d-990f-bf6261578ea3",
   "metadata": {},
   "outputs": [
    {
     "data": {
      "image/png": "[encoded data removed]",
      "text/plain": [
       "<Figure size 640x480 with 1 Axes>"
      ]
     },
     "metadata": {},
     "output_type": "display_data"
    }
   ],
   "source": [
    "### Bivariate analysis: Comparison between Property Area and Loan Status\n",
    "\n",
    "sns.countplot(x='Property_Area', hue='Loan_Status', data=df)\n",
    "plt.title('Property Area vs. Loan Status')\n",
    "plt.show()\n",
    "\n",
    "# Those residing in semi-urban areas seem to apply for loans the most, followed by rural and urban areas."
   ]
  },
  {
   "cell_type": "code",
   "execution_count": 3988,
   "id": "04a4958a-45ed-47ae-926c-c443871e7312",
   "metadata": {},
   "outputs": [],
   "source": [
    "############## Step 3: Build models and evaluate them ##############"
   ]
  },
  {
   "cell_type": "code",
   "execution_count": 3990,
   "id": "7525377a-0cd6-409c-a99a-ebc42662f0c0",
   "metadata": {},
   "outputs": [],
   "source": [
    "### Import scikit-learn library for predictive data analysis\n",
    "\n",
    "from sklearn.linear_model import LogisticRegression\n",
    "from sklearn.model_selection import train_test_split"
   ]
  },
  {
   "cell_type": "code",
   "execution_count": 1,
   "id": "8a614163-5526-4c38-be6c-48ec9836627b",
   "metadata": {},
   "outputs": [
    {
     "ename": "NameError",
     "evalue": "name 'df' is not defined",
     "output_type": "error",
     "traceback": [
      "\u001b[1;31m---------------------------------------------------------------------------\u001b[0m",
      "\u001b[1;31mNameError\u001b[0m                                 Traceback (most recent call last)",
      "Cell \u001b[1;32mIn[1], line 3\u001b[0m\n\u001b[0;32m      1\u001b[0m \u001b[38;5;66;03m### Split the data into training and test sets\u001b[39;00m\n\u001b[1;32m----> 3\u001b[0m X \u001b[38;5;241m=\u001b[39m df\u001b[38;5;241m.\u001b[39mdrop([\u001b[38;5;124m'\u001b[39m\u001b[38;5;124mLoan_Status\u001b[39m\u001b[38;5;124m'\u001b[39m], axis\u001b[38;5;241m=\u001b[39m\u001b[38;5;241m1\u001b[39m)\n\u001b[0;32m      4\u001b[0m y \u001b[38;5;241m=\u001b[39m df[\u001b[38;5;124m'\u001b[39m\u001b[38;5;124mLoan_Status\u001b[39m\u001b[38;5;124m'\u001b[39m]\n\u001b[0;32m      5\u001b[0m X_train, X_test, y_train, y_test \u001b[38;5;241m=\u001b[39m train_test_split(X, y, test_size\u001b[38;5;241m=\u001b[39m\u001b[38;5;241m0.2\u001b[39m, random_state\u001b[38;5;241m=\u001b[39m\u001b[38;5;241m42\u001b[39m)\n",
      "\u001b[1;31mNameError\u001b[0m: name 'df' is not defined"
     ]
    }
   ],
   "source": [
    "### Split the data into training and test sets\n",
    "\n",
    "X = df.drop(['Loan_Status'], axis=1)\n",
    "y = df['Loan_Status']\n",
    "X_train, X_test, y_train, y_test = train_test_split(X, y, test_size=0.2, random_state=42)\n",
    "\n",
    "# 20% of data for testing, 80% for training\n",
    "# random state = 42 as reference for a number parameter"
   ]
  },
  {
   "cell_type": "code",
   "execution_count": 3994,
   "id": "8bfe3fea-f738-4927-84a5-1719102679b5",
   "metadata": {},
   "outputs": [
    {
     "data": {
      "text/plain": [
       "Loan_Status\n",
       "1    3920\n",
       "0     798\n",
       "Name: count, dtype: int64"
      ]
     },
     "execution_count": 3994,
     "metadata": {},
     "output_type": "execute_result"
    }
   ],
   "source": [
    "### Check class distribution\n",
    "\n",
    "y_train.value_counts()\n",
    "\n",
    "# 0 = 798 instances, 1 = 3920 instances \n",
    "# The number of observations in Loan Status is significantly higher than in the other, indicating an imbalanced dataset"
   ]
  },
  {
   "cell_type": "code",
   "execution_count": 3996,
   "id": "d42dd353-c99b-417c-8f3c-18f6159cb65f",
   "metadata": {},
   "outputs": [
    {
     "name": "stderr",
     "output_type": "stream",
     "text": [
      "/opt/anaconda3/lib/python3.12/site-packages/sklearn/linear_model/_logistic.py:469: ConvergenceWarning: lbfgs failed to converge (status=1):\n",
      "STOP: TOTAL NO. of ITERATIONS REACHED LIMIT.\n",
      "\n",
      "Increase the number of iterations (max_iter) or scale the data as shown in:\n",
      "    https://scikit-learn.org/stable/modules/preprocessing.html\n",
      "Please also refer to the documentation for alternative solver options:\n",
      "    https://scikit-learn.org/stable/modules/linear_model.html#logistic-regression\n",
      "  n_iter_i = _check_optimize_result(\n"
     ]
    }
   ],
   "source": [
    "### 3.1: Start with logistic regression\n",
    "\n",
    "clf = LogisticRegression()\n",
    "clf.fit(X_train, y_train)\n",
    "y_pred = clf.predict(X_test)\n",
    "\n",
    "# Total number of iterations reached limit: not suitable for this dataset"
   ]
  },
  {
   "cell_type": "code",
   "execution_count": 3998,
   "id": "0e718276-59f9-4155-ba76-58600bd66a56",
   "metadata": {},
   "outputs": [
    {
     "data": {
      "text/plain": [
       "{'C': 1.0,\n",
       " 'class_weight': None,\n",
       " 'dual': False,\n",
       " 'fit_intercept': True,\n",
       " 'intercept_scaling': 1,\n",
       " 'l1_ratio': None,\n",
       " 'max_iter': 100,\n",
       " 'multi_class': 'deprecated',\n",
       " 'n_jobs': None,\n",
       " 'penalty': 'l2',\n",
       " 'random_state': None,\n",
       " 'solver': 'lbfgs',\n",
       " 'tol': 0.0001,\n",
       " 'verbose': 0,\n",
       " 'warm_start': False}"
      ]
     },
     "execution_count": 3998,
     "metadata": {},
     "output_type": "execute_result"
    }
   ],
   "source": [
    "clf.get_params()"
   ]
  },
  {
   "cell_type": "code",
   "execution_count": 4000,
   "id": "b7d5fab5-9cd1-4b27-872b-0b3f50c6309d",
   "metadata": {},
   "outputs": [
    {
     "data": {
      "text/html": [
       "<div>\n",
       "<style scoped>\n",
       "    .dataframe tbody tr th:only-of-type {\n",
       "        vertical-align: middle;\n",
       "    }\n",
       "\n",
       "    .dataframe tbody tr th {\n",
       "        vertical-align: top;\n",
       "    }\n",
       "\n",
       "    .dataframe thead th {\n",
       "        text-align: right;\n",
       "    }\n",
       "</style>\n",
       "<table border=\"1\" class=\"dataframe\">\n",
       "  <thead>\n",
       "    <tr style=\"text-align: right;\">\n",
       "      <th></th>\n",
       "      <th>Gender</th>\n",
       "      <th>Married</th>\n",
       "      <th>Dependents</th>\n",
       "      <th>Education</th>\n",
       "      <th>Self_Employed</th>\n",
       "      <th>ApplicantIncome</th>\n",
       "      <th>CoapplicantIncome</th>\n",
       "      <th>LoanAmount</th>\n",
       "      <th>Loan_Amount_Term</th>\n",
       "      <th>Credit_History</th>\n",
       "      <th>Property_Area</th>\n",
       "    </tr>\n",
       "  </thead>\n",
       "  <tbody>\n",
       "    <tr>\n",
       "      <th>5745</th>\n",
       "      <td>1</td>\n",
       "      <td>1</td>\n",
       "      <td>0</td>\n",
       "      <td>0</td>\n",
       "      <td>0</td>\n",
       "      <td>7224</td>\n",
       "      <td>3180.790049</td>\n",
       "      <td>17</td>\n",
       "      <td>373</td>\n",
       "      <td>1</td>\n",
       "      <td>2</td>\n",
       "    </tr>\n",
       "    <tr>\n",
       "      <th>1978</th>\n",
       "      <td>1</td>\n",
       "      <td>0</td>\n",
       "      <td>0</td>\n",
       "      <td>0</td>\n",
       "      <td>0</td>\n",
       "      <td>150</td>\n",
       "      <td>8285.865369</td>\n",
       "      <td>17</td>\n",
       "      <td>356</td>\n",
       "      <td>1</td>\n",
       "      <td>2</td>\n",
       "    </tr>\n",
       "    <tr>\n",
       "      <th>1760</th>\n",
       "      <td>1</td>\n",
       "      <td>1</td>\n",
       "      <td>0</td>\n",
       "      <td>1</td>\n",
       "      <td>0</td>\n",
       "      <td>8122</td>\n",
       "      <td>1010.778812</td>\n",
       "      <td>213</td>\n",
       "      <td>357</td>\n",
       "      <td>1</td>\n",
       "      <td>1</td>\n",
       "    </tr>\n",
       "    <tr>\n",
       "      <th>3768</th>\n",
       "      <td>0</td>\n",
       "      <td>1</td>\n",
       "      <td>0</td>\n",
       "      <td>0</td>\n",
       "      <td>0</td>\n",
       "      <td>6691</td>\n",
       "      <td>667.268452</td>\n",
       "      <td>17</td>\n",
       "      <td>12</td>\n",
       "      <td>1</td>\n",
       "      <td>2</td>\n",
       "    </tr>\n",
       "    <tr>\n",
       "      <th>5400</th>\n",
       "      <td>1</td>\n",
       "      <td>1</td>\n",
       "      <td>0</td>\n",
       "      <td>0</td>\n",
       "      <td>0</td>\n",
       "      <td>150</td>\n",
       "      <td>0.000000</td>\n",
       "      <td>199</td>\n",
       "      <td>371</td>\n",
       "      <td>0</td>\n",
       "      <td>1</td>\n",
       "    </tr>\n",
       "    <tr>\n",
       "      <th>...</th>\n",
       "      <td>...</td>\n",
       "      <td>...</td>\n",
       "      <td>...</td>\n",
       "      <td>...</td>\n",
       "      <td>...</td>\n",
       "      <td>...</td>\n",
       "      <td>...</td>\n",
       "      <td>...</td>\n",
       "      <td>...</td>\n",
       "      <td>...</td>\n",
       "      <td>...</td>\n",
       "    </tr>\n",
       "    <tr>\n",
       "      <th>3319</th>\n",
       "      <td>1</td>\n",
       "      <td>0</td>\n",
       "      <td>3</td>\n",
       "      <td>0</td>\n",
       "      <td>0</td>\n",
       "      <td>23058</td>\n",
       "      <td>2505.932282</td>\n",
       "      <td>67</td>\n",
       "      <td>352</td>\n",
       "      <td>1</td>\n",
       "      <td>0</td>\n",
       "    </tr>\n",
       "    <tr>\n",
       "      <th>838</th>\n",
       "      <td>1</td>\n",
       "      <td>1</td>\n",
       "      <td>0</td>\n",
       "      <td>0</td>\n",
       "      <td>0</td>\n",
       "      <td>7722</td>\n",
       "      <td>205.003332</td>\n",
       "      <td>232</td>\n",
       "      <td>353</td>\n",
       "      <td>0</td>\n",
       "      <td>2</td>\n",
       "    </tr>\n",
       "    <tr>\n",
       "      <th>1087</th>\n",
       "      <td>0</td>\n",
       "      <td>1</td>\n",
       "      <td>0</td>\n",
       "      <td>0</td>\n",
       "      <td>0</td>\n",
       "      <td>5016</td>\n",
       "      <td>2235.410467</td>\n",
       "      <td>17</td>\n",
       "      <td>427</td>\n",
       "      <td>1</td>\n",
       "      <td>2</td>\n",
       "    </tr>\n",
       "    <tr>\n",
       "      <th>1623</th>\n",
       "      <td>1</td>\n",
       "      <td>1</td>\n",
       "      <td>0</td>\n",
       "      <td>0</td>\n",
       "      <td>1</td>\n",
       "      <td>14259</td>\n",
       "      <td>0.000000</td>\n",
       "      <td>231</td>\n",
       "      <td>372</td>\n",
       "      <td>1</td>\n",
       "      <td>0</td>\n",
       "    </tr>\n",
       "    <tr>\n",
       "      <th>1741</th>\n",
       "      <td>1</td>\n",
       "      <td>0</td>\n",
       "      <td>2</td>\n",
       "      <td>0</td>\n",
       "      <td>1</td>\n",
       "      <td>4589</td>\n",
       "      <td>0.000000</td>\n",
       "      <td>69</td>\n",
       "      <td>358</td>\n",
       "      <td>1</td>\n",
       "      <td>1</td>\n",
       "    </tr>\n",
       "  </tbody>\n",
       "</table>\n",
       "<p>1180 rows × 11 columns</p>\n",
       "</div>"
      ],
      "text/plain": [
       "      Gender  Married  Dependents  Education  Self_Employed  ApplicantIncome  \\\n",
       "5745       1        1           0          0              0             7224   \n",
       "1978       1        0           0          0              0              150   \n",
       "1760       1        1           0          1              0             8122   \n",
       "3768       0        1           0          0              0             6691   \n",
       "5400       1        1           0          0              0              150   \n",
       "...      ...      ...         ...        ...            ...              ...   \n",
       "3319       1        0           3          0              0            23058   \n",
       "838        1        1           0          0              0             7722   \n",
       "1087       0        1           0          0              0             5016   \n",
       "1623       1        1           0          0              1            14259   \n",
       "1741       1        0           2          0              1             4589   \n",
       "\n",
       "      CoapplicantIncome  LoanAmount  Loan_Amount_Term  Credit_History  \\\n",
       "5745        3180.790049          17               373               1   \n",
       "1978        8285.865369          17               356               1   \n",
       "1760        1010.778812         213               357               1   \n",
       "3768         667.268452          17                12               1   \n",
       "5400           0.000000         199               371               0   \n",
       "...                 ...         ...               ...             ...   \n",
       "3319        2505.932282          67               352               1   \n",
       "838          205.003332         232               353               0   \n",
       "1087        2235.410467          17               427               1   \n",
       "1623           0.000000         231               372               1   \n",
       "1741           0.000000          69               358               1   \n",
       "\n",
       "      Property_Area  \n",
       "5745              2  \n",
       "1978              2  \n",
       "1760              1  \n",
       "3768              2  \n",
       "5400              1  \n",
       "...             ...  \n",
       "3319              0  \n",
       "838               2  \n",
       "1087              2  \n",
       "1623              0  \n",
       "1741              1  \n",
       "\n",
       "[1180 rows x 11 columns]"
      ]
     },
     "execution_count": 4000,
     "metadata": {},
     "output_type": "execute_result"
    }
   ],
   "source": [
    "X_test"
   ]
  },
  {
   "cell_type": "code",
   "execution_count": 4002,
   "id": "8b4cebbd-09f1-4f7f-af19-1fb3cf487aa7",
   "metadata": {},
   "outputs": [
    {
     "data": {
      "text/plain": [
       "array([[0.14752242, 0.85247758],\n",
       "       [0.16675377, 0.83324623],\n",
       "       [0.16451231, 0.83548769],\n",
       "       ...,\n",
       "       [0.14893213, 0.85106787],\n",
       "       [0.178441  , 0.821559  ],\n",
       "       [0.18158534, 0.81841466]])"
      ]
     },
     "execution_count": 4002,
     "metadata": {},
     "output_type": "execute_result"
    }
   ],
   "source": [
    "# Get predictions using predict.proba\n",
    "\n",
    "clf.predict_proba(X_test)"
   ]
  },
  {
   "cell_type": "code",
   "execution_count": 4004,
   "id": "94d720da-5f10-419d-907e-ba829ba7ec75",
   "metadata": {},
   "outputs": [
    {
     "data": {
      "text/plain": [
       "0.8415254237288136"
      ]
     },
     "execution_count": 4004,
     "metadata": {},
     "output_type": "execute_result"
    }
   ],
   "source": [
    "### Use performance metrics: accuracy score\n",
    "\n",
    "from sklearn.metrics import accuracy_score\n",
    "accuracy_score(y_test, y_pred)\n",
    "\n",
    "# The model has an accuracy score of 0.84"
   ]
  },
  {
   "cell_type": "code",
   "execution_count": 4006,
   "id": "a38c098d-f516-4be2-aee2-d370aec9c2fb",
   "metadata": {},
   "outputs": [
    {
     "data": {
      "text/plain": [
       "0.8415254237288136"
      ]
     },
     "execution_count": 4006,
     "metadata": {},
     "output_type": "execute_result"
    }
   ],
   "source": [
    "### Use performance metrics: precision score\n",
    "\n",
    "from sklearn.metrics import precision_score\n",
    "precision_score(y_test, y_pred)\n",
    "\n",
    "# This model has a precision of 0.84"
   ]
  },
  {
   "cell_type": "code",
   "execution_count": 4008,
   "id": "67fd56be-06f8-4d42-a211-7dd0f9c0a1d7",
   "metadata": {},
   "outputs": [
    {
     "data": {
      "text/plain": [
       "array([[  0, 187],\n",
       "       [  0, 993]])"
      ]
     },
     "execution_count": 4008,
     "metadata": {},
     "output_type": "execute_result"
    }
   ],
   "source": [
    "### Use performance metrics: confusion matrix\n",
    "\n",
    "from sklearn.metrics import confusion_matrix\n",
    "confusion_matrix(y_test, y_pred, labels=[0,1])\n",
    "\n",
    "# 0 = classified 0 times, 1 = classified 993 times -> very unusual"
   ]
  },
  {
   "cell_type": "code",
   "execution_count": 4010,
   "id": "f47bf87b-d7f6-4e03-ba62-feb7c4e6b134",
   "metadata": {},
   "outputs": [
    {
     "data": {
      "text/plain": [
       "0.9139438564196962"
      ]
     },
     "execution_count": 4010,
     "metadata": {},
     "output_type": "execute_result"
    }
   ],
   "source": [
    "### Use performance metrics: F1-score\n",
    "\n",
    "from sklearn.metrics import f1_score\n",
    "f1_score(y_test, y_pred)\n",
    "\n",
    "# 0.82"
   ]
  },
  {
   "cell_type": "code",
   "execution_count": 4012,
   "id": "208afb85-23e7-4472-9355-4c5afc0f8950",
   "metadata": {},
   "outputs": [
    {
     "name": "stdout",
     "output_type": "stream",
     "text": [
      "              precision    recall  f1-score   support\n",
      "\n",
      "           0       0.00      0.00      0.00       187\n",
      "           1       0.84      1.00      0.91       993\n",
      "\n",
      "    accuracy                           0.84      1180\n",
      "   macro avg       0.42      0.50      0.46      1180\n",
      "weighted avg       0.71      0.84      0.77      1180\n",
      "\n"
     ]
    },
    {
     "name": "stderr",
     "output_type": "stream",
     "text": [
      "/opt/anaconda3/lib/python3.12/site-packages/sklearn/metrics/_classification.py:1531: UndefinedMetricWarning: Precision is ill-defined and being set to 0.0 in labels with no predicted samples. Use `zero_division` parameter to control this behavior.\n",
      "  _warn_prf(average, modifier, f\"{metric.capitalize()} is\", len(result))\n",
      "/opt/anaconda3/lib/python3.12/site-packages/sklearn/metrics/_classification.py:1531: UndefinedMetricWarning: Precision is ill-defined and being set to 0.0 in labels with no predicted samples. Use `zero_division` parameter to control this behavior.\n",
      "  _warn_prf(average, modifier, f\"{metric.capitalize()} is\", len(result))\n",
      "/opt/anaconda3/lib/python3.12/site-packages/sklearn/metrics/_classification.py:1531: UndefinedMetricWarning: Precision is ill-defined and being set to 0.0 in labels with no predicted samples. Use `zero_division` parameter to control this behavior.\n",
      "  _warn_prf(average, modifier, f\"{metric.capitalize()} is\", len(result))\n"
     ]
    }
   ],
   "source": [
    "### Use performance metrics: classification report\n",
    "\n",
    "from sklearn.metrics import classification_report\n",
    "print(classification_report(y_test, y_pred, target_names=['0', '1']))"
   ]
  },
  {
   "cell_type": "code",
   "execution_count": 4014,
   "id": "1458356f-3997-4fb3-b97e-2d3aac09e7b5",
   "metadata": {},
   "outputs": [
    {
     "data": {
      "text/plain": [
       "0.5"
      ]
     },
     "execution_count": 4014,
     "metadata": {},
     "output_type": "execute_result"
    }
   ],
   "source": [
    "### Use performance metrics: ROC-AUC\n",
    "\n",
    "from sklearn.metrics import roc_auc_score, roc_curve, auc\n",
    "roc_auc_score(y_test, y_pred)\n",
    "\n",
    "# 0.47 indicating a low discrimination between classes"
   ]
  },
  {
   "cell_type": "code",
   "execution_count": 4016,
   "id": "f519750d-cdaf-46a1-b907-a07f2e9ac747",
   "metadata": {},
   "outputs": [],
   "source": [
    "### 3.2: Continue with tree-based models\n",
    "\n",
    "from sklearn.tree import DecisionTreeClassifier\n",
    "\n",
    "clf = DecisionTreeClassifier()\n",
    "clf = clf.fit(X_train, y_train)\n",
    "y_pred = clf.predict(X_test)"
   ]
  },
  {
   "cell_type": "code",
   "execution_count": 4018,
   "id": "a321263b-40f0-41e0-b05b-8f0465987941",
   "metadata": {},
   "outputs": [
    {
     "data": {
      "text/plain": [
       "{'ccp_alpha': 0.0,\n",
       " 'class_weight': None,\n",
       " 'criterion': 'gini',\n",
       " 'max_depth': None,\n",
       " 'max_features': None,\n",
       " 'max_leaf_nodes': None,\n",
       " 'min_impurity_decrease': 0.0,\n",
       " 'min_samples_leaf': 1,\n",
       " 'min_samples_split': 2,\n",
       " 'min_weight_fraction_leaf': 0.0,\n",
       " 'monotonic_cst': None,\n",
       " 'random_state': None,\n",
       " 'splitter': 'best'}"
      ]
     },
     "execution_count": 4018,
     "metadata": {},
     "output_type": "execute_result"
    }
   ],
   "source": [
    "clf.get_params()"
   ]
  },
  {
   "cell_type": "code",
   "execution_count": 4020,
   "id": "91c440c4-ffb5-47ad-b148-28e7335a8f43",
   "metadata": {},
   "outputs": [
    {
     "data": {
      "text/plain": [
       "array([[0., 1.],\n",
       "       [0., 1.],\n",
       "       [1., 0.],\n",
       "       ...,\n",
       "       [0., 1.],\n",
       "       [0., 1.],\n",
       "       [0., 1.]])"
      ]
     },
     "execution_count": 4020,
     "metadata": {},
     "output_type": "execute_result"
    }
   ],
   "source": [
    "# Get predictions using predict.proba\n",
    "\n",
    "clf.predict_proba(X_test)"
   ]
  },
  {
   "cell_type": "code",
   "execution_count": 4022,
   "id": "c33c75cf-e95d-4a06-add9-0a4de948a1da",
   "metadata": {},
   "outputs": [
    {
     "data": {
      "text/html": [
       "<div>\n",
       "<style scoped>\n",
       "    .dataframe tbody tr th:only-of-type {\n",
       "        vertical-align: middle;\n",
       "    }\n",
       "\n",
       "    .dataframe tbody tr th {\n",
       "        vertical-align: top;\n",
       "    }\n",
       "\n",
       "    .dataframe thead th {\n",
       "        text-align: right;\n",
       "    }\n",
       "</style>\n",
       "<table border=\"1\" class=\"dataframe\">\n",
       "  <thead>\n",
       "    <tr style=\"text-align: right;\">\n",
       "      <th></th>\n",
       "      <th>Gender</th>\n",
       "      <th>Married</th>\n",
       "      <th>Dependents</th>\n",
       "      <th>Education</th>\n",
       "      <th>Self_Employed</th>\n",
       "      <th>ApplicantIncome</th>\n",
       "      <th>CoapplicantIncome</th>\n",
       "      <th>LoanAmount</th>\n",
       "      <th>Loan_Amount_Term</th>\n",
       "      <th>Credit_History</th>\n",
       "      <th>Property_Area</th>\n",
       "    </tr>\n",
       "  </thead>\n",
       "  <tbody>\n",
       "    <tr>\n",
       "      <th>5745</th>\n",
       "      <td>1</td>\n",
       "      <td>1</td>\n",
       "      <td>0</td>\n",
       "      <td>0</td>\n",
       "      <td>0</td>\n",
       "      <td>7224</td>\n",
       "      <td>3180.790049</td>\n",
       "      <td>17</td>\n",
       "      <td>373</td>\n",
       "      <td>1</td>\n",
       "      <td>2</td>\n",
       "    </tr>\n",
       "    <tr>\n",
       "      <th>1978</th>\n",
       "      <td>1</td>\n",
       "      <td>0</td>\n",
       "      <td>0</td>\n",
       "      <td>0</td>\n",
       "      <td>0</td>\n",
       "      <td>150</td>\n",
       "      <td>8285.865369</td>\n",
       "      <td>17</td>\n",
       "      <td>356</td>\n",
       "      <td>1</td>\n",
       "      <td>2</td>\n",
       "    </tr>\n",
       "    <tr>\n",
       "      <th>1760</th>\n",
       "      <td>1</td>\n",
       "      <td>1</td>\n",
       "      <td>0</td>\n",
       "      <td>1</td>\n",
       "      <td>0</td>\n",
       "      <td>8122</td>\n",
       "      <td>1010.778812</td>\n",
       "      <td>213</td>\n",
       "      <td>357</td>\n",
       "      <td>1</td>\n",
       "      <td>1</td>\n",
       "    </tr>\n",
       "    <tr>\n",
       "      <th>3768</th>\n",
       "      <td>0</td>\n",
       "      <td>1</td>\n",
       "      <td>0</td>\n",
       "      <td>0</td>\n",
       "      <td>0</td>\n",
       "      <td>6691</td>\n",
       "      <td>667.268452</td>\n",
       "      <td>17</td>\n",
       "      <td>12</td>\n",
       "      <td>1</td>\n",
       "      <td>2</td>\n",
       "    </tr>\n",
       "    <tr>\n",
       "      <th>5400</th>\n",
       "      <td>1</td>\n",
       "      <td>1</td>\n",
       "      <td>0</td>\n",
       "      <td>0</td>\n",
       "      <td>0</td>\n",
       "      <td>150</td>\n",
       "      <td>0.000000</td>\n",
       "      <td>199</td>\n",
       "      <td>371</td>\n",
       "      <td>0</td>\n",
       "      <td>1</td>\n",
       "    </tr>\n",
       "    <tr>\n",
       "      <th>...</th>\n",
       "      <td>...</td>\n",
       "      <td>...</td>\n",
       "      <td>...</td>\n",
       "      <td>...</td>\n",
       "      <td>...</td>\n",
       "      <td>...</td>\n",
       "      <td>...</td>\n",
       "      <td>...</td>\n",
       "      <td>...</td>\n",
       "      <td>...</td>\n",
       "      <td>...</td>\n",
       "    </tr>\n",
       "    <tr>\n",
       "      <th>3319</th>\n",
       "      <td>1</td>\n",
       "      <td>0</td>\n",
       "      <td>3</td>\n",
       "      <td>0</td>\n",
       "      <td>0</td>\n",
       "      <td>23058</td>\n",
       "      <td>2505.932282</td>\n",
       "      <td>67</td>\n",
       "      <td>352</td>\n",
       "      <td>1</td>\n",
       "      <td>0</td>\n",
       "    </tr>\n",
       "    <tr>\n",
       "      <th>838</th>\n",
       "      <td>1</td>\n",
       "      <td>1</td>\n",
       "      <td>0</td>\n",
       "      <td>0</td>\n",
       "      <td>0</td>\n",
       "      <td>7722</td>\n",
       "      <td>205.003332</td>\n",
       "      <td>232</td>\n",
       "      <td>353</td>\n",
       "      <td>0</td>\n",
       "      <td>2</td>\n",
       "    </tr>\n",
       "    <tr>\n",
       "      <th>1087</th>\n",
       "      <td>0</td>\n",
       "      <td>1</td>\n",
       "      <td>0</td>\n",
       "      <td>0</td>\n",
       "      <td>0</td>\n",
       "      <td>5016</td>\n",
       "      <td>2235.410467</td>\n",
       "      <td>17</td>\n",
       "      <td>427</td>\n",
       "      <td>1</td>\n",
       "      <td>2</td>\n",
       "    </tr>\n",
       "    <tr>\n",
       "      <th>1623</th>\n",
       "      <td>1</td>\n",
       "      <td>1</td>\n",
       "      <td>0</td>\n",
       "      <td>0</td>\n",
       "      <td>1</td>\n",
       "      <td>14259</td>\n",
       "      <td>0.000000</td>\n",
       "      <td>231</td>\n",
       "      <td>372</td>\n",
       "      <td>1</td>\n",
       "      <td>0</td>\n",
       "    </tr>\n",
       "    <tr>\n",
       "      <th>1741</th>\n",
       "      <td>1</td>\n",
       "      <td>0</td>\n",
       "      <td>2</td>\n",
       "      <td>0</td>\n",
       "      <td>1</td>\n",
       "      <td>4589</td>\n",
       "      <td>0.000000</td>\n",
       "      <td>69</td>\n",
       "      <td>358</td>\n",
       "      <td>1</td>\n",
       "      <td>1</td>\n",
       "    </tr>\n",
       "  </tbody>\n",
       "</table>\n",
       "<p>1180 rows × 11 columns</p>\n",
       "</div>"
      ],
      "text/plain": [
       "      Gender  Married  Dependents  Education  Self_Employed  ApplicantIncome  \\\n",
       "5745       1        1           0          0              0             7224   \n",
       "1978       1        0           0          0              0              150   \n",
       "1760       1        1           0          1              0             8122   \n",
       "3768       0        1           0          0              0             6691   \n",
       "5400       1        1           0          0              0              150   \n",
       "...      ...      ...         ...        ...            ...              ...   \n",
       "3319       1        0           3          0              0            23058   \n",
       "838        1        1           0          0              0             7722   \n",
       "1087       0        1           0          0              0             5016   \n",
       "1623       1        1           0          0              1            14259   \n",
       "1741       1        0           2          0              1             4589   \n",
       "\n",
       "      CoapplicantIncome  LoanAmount  Loan_Amount_Term  Credit_History  \\\n",
       "5745        3180.790049          17               373               1   \n",
       "1978        8285.865369          17               356               1   \n",
       "1760        1010.778812         213               357               1   \n",
       "3768         667.268452          17                12               1   \n",
       "5400           0.000000         199               371               0   \n",
       "...                 ...         ...               ...             ...   \n",
       "3319        2505.932282          67               352               1   \n",
       "838          205.003332         232               353               0   \n",
       "1087        2235.410467          17               427               1   \n",
       "1623           0.000000         231               372               1   \n",
       "1741           0.000000          69               358               1   \n",
       "\n",
       "      Property_Area  \n",
       "5745              2  \n",
       "1978              2  \n",
       "1760              1  \n",
       "3768              2  \n",
       "5400              1  \n",
       "...             ...  \n",
       "3319              0  \n",
       "838               2  \n",
       "1087              2  \n",
       "1623              0  \n",
       "1741              1  \n",
       "\n",
       "[1180 rows x 11 columns]"
      ]
     },
     "execution_count": 4022,
     "metadata": {},
     "output_type": "execute_result"
    }
   ],
   "source": [
    "X_test\n",
    "# 1180 rows x 14 columns"
   ]
  },
  {
   "cell_type": "code",
   "execution_count": 4024,
   "id": "db024d1b-1baf-4d1e-a888-7f579e952300",
   "metadata": {},
   "outputs": [
    {
     "data": {
      "text/plain": [
       "array([1, 1, 0, ..., 1, 1, 1])"
      ]
     },
     "execution_count": 4024,
     "metadata": {},
     "output_type": "execute_result"
    }
   ],
   "source": [
    "# Get predictions\n",
    "\n",
    "y_pred = clf.predict(X_test)\n",
    "y_pred"
   ]
  },
  {
   "cell_type": "code",
   "execution_count": 4026,
   "id": "1cfb8322-b9dd-4b8a-b1c8-a216fec6b7fa",
   "metadata": {},
   "outputs": [
    {
     "data": {
      "text/plain": [
       "array([[0., 1.],\n",
       "       [0., 1.],\n",
       "       [1., 0.],\n",
       "       ...,\n",
       "       [0., 1.],\n",
       "       [0., 1.],\n",
       "       [0., 1.]])"
      ]
     },
     "execution_count": 4026,
     "metadata": {},
     "output_type": "execute_result"
    }
   ],
   "source": [
    "# Get predictions using predict.proba\n",
    "\n",
    "clf.predict_proba(X_test)"
   ]
  },
  {
   "cell_type": "code",
   "execution_count": 4028,
   "id": "7d5beea5-704f-486b-a4f4-c16bd20fec89",
   "metadata": {},
   "outputs": [
    {
     "data": {
      "text/plain": [
       "0.6940677966101695"
      ]
     },
     "execution_count": 4028,
     "metadata": {},
     "output_type": "execute_result"
    }
   ],
   "source": [
    "### Use performance metrics: accuracy score\n",
    "\n",
    "from sklearn.metrics import accuracy_score\n",
    "accuracy_score(y_test, y_pred)\n",
    "\n",
    "# This model has an accuracy of 0.73"
   ]
  },
  {
   "cell_type": "code",
   "execution_count": 4030,
   "id": "921befc7-d9a1-456b-b9bc-e4ca6a9c11c9",
   "metadata": {},
   "outputs": [
    {
     "data": {
      "text/plain": [
       "0.8333333333333334"
      ]
     },
     "execution_count": 4030,
     "metadata": {},
     "output_type": "execute_result"
    }
   ],
   "source": [
    "### Use performance metrics: precision score\n",
    "\n",
    "from sklearn.metrics import precision_score\n",
    "precision_score(y_test, y_pred)\n",
    "\n",
    "# This model has a precision of 0.84"
   ]
  },
  {
   "cell_type": "code",
   "execution_count": 4032,
   "id": "f87dcd31-a363-4b51-afc9-97fe170b9b17",
   "metadata": {},
   "outputs": [
    {
     "data": {
      "text/plain": [
       "array([[ 29, 158],\n",
       "       [203, 790]])"
      ]
     },
     "execution_count": 4032,
     "metadata": {},
     "output_type": "execute_result"
    }
   ],
   "source": [
    "### Use performance metrics: confusion matrix\n",
    "\n",
    "from sklearn.metrics import confusion_matrix\n",
    "confusion_matrix(y_test, y_pred, labels=[0,1])\n",
    "\n",
    "# 0 = classified 32 times, 1 = classified 795 times"
   ]
  },
  {
   "cell_type": "code",
   "execution_count": 4034,
   "id": "0cd590b4-630e-4eba-921a-20c438a68149",
   "metadata": {},
   "outputs": [
    {
     "data": {
      "text/plain": [
       "0.7955689828801611"
      ]
     },
     "execution_count": 4034,
     "metadata": {},
     "output_type": "execute_result"
    }
   ],
   "source": [
    "### Use performance metrics: recall score\n",
    "\n",
    "from sklearn.metrics import recall_score\n",
    "recall_score(y_test, y_pred)\n",
    "\n",
    "# The proportion of all actual positives that were classified correctly as positives is 0.80"
   ]
  },
  {
   "cell_type": "code",
   "execution_count": 4036,
   "id": "94ff93bc-baf1-4d62-99ca-4a873e67337b",
   "metadata": {},
   "outputs": [
    {
     "data": {
      "text/plain": [
       "0.8140133951571354"
      ]
     },
     "execution_count": 4036,
     "metadata": {},
     "output_type": "execute_result"
    }
   ],
   "source": [
    "### Use performance metrics: F1-score\n",
    "\n",
    "from sklearn.metrics import f1_score\n",
    "f1_score(y_test, y_pred)\n",
    "\n",
    "# A score of 0.82 indicates a balanced performance, demonstrating that the model can maintain high precision and high recall"
   ]
  },
  {
   "cell_type": "code",
   "execution_count": 4038,
   "id": "95ff9035-436c-4493-9eab-f6717577d8ab",
   "metadata": {},
   "outputs": [
    {
     "name": "stderr",
     "output_type": "stream",
     "text": [
      "/opt/anaconda3/lib/python3.12/site-packages/IPython/core/displayhook.py:281: UserWarning: Output cache limit (currently 1000 entries) hit.\n",
      "Flushing oldest 200 entries.\n",
      "  warn('Output cache limit (currently {sz} entries) hit.\\n'\n"
     ]
    },
    {
     "data": {
      "text/plain": [
       "0.4753245983919522"
      ]
     },
     "execution_count": 4038,
     "metadata": {},
     "output_type": "execute_result"
    }
   ],
   "source": [
    "### Use performance metrics: ROC-AUC\n",
    "\n",
    "from sklearn.metrics import roc_auc_score, roc_curve, auc\n",
    "roc_auc_score(y_test, y_pred)\n",
    "\n",
    "# The ROC-AUC is 0.5, representing a 50% probability of correctly ranking a random positive and negative example.\n",
    "# The model is not able to discriminate between classes, and is thus equivalent to making predictions at random."
   ]
  },
  {
   "cell_type": "code",
   "execution_count": 4040,
   "id": "fac130e3-d713-4905-b51a-493e6d89ef23",
   "metadata": {},
   "outputs": [
    {
     "name": "stdout",
     "output_type": "stream",
     "text": [
      "              precision    recall  f1-score   support\n",
      "\n",
      "           0       0.12      0.16      0.14       187\n",
      "           1       0.83      0.80      0.81       993\n",
      "\n",
      "    accuracy                           0.69      1180\n",
      "   macro avg       0.48      0.48      0.48      1180\n",
      "weighted avg       0.72      0.69      0.71      1180\n",
      "\n"
     ]
    }
   ],
   "source": [
    "### Use performance metrics: classification report\n",
    "\n",
    "from sklearn.metrics import classification_report\n",
    "print(classification_report(y_test, y_pred, target_names=['0', '1']))"
   ]
  },
  {
   "cell_type": "code",
   "execution_count": 4042,
   "id": "0cb0b0e1-bb52-49c9-a27d-9b47515a7a8c",
   "metadata": {},
   "outputs": [
    {
     "data": {
      "text/plain": [
       "Index(['Gender', 'Married', 'Dependents', 'Education', 'Self_Employed',\n",
       "       'ApplicantIncome', 'CoapplicantIncome', 'LoanAmount',\n",
       "       'Loan_Amount_Term', 'Credit_History', 'Property_Area'],\n",
       "      dtype='object')"
      ]
     },
     "execution_count": 4042,
     "metadata": {},
     "output_type": "execute_result"
    }
   ],
   "source": [
    "### Use performance metrics: feature importances\n",
    "\n",
    "feature_names = X.columns\n",
    "feature_names"
   ]
  },
  {
   "cell_type": "code",
   "execution_count": 4044,
   "id": "868f9d44-3828-4b55-bdb4-95aea2701d3c",
   "metadata": {},
   "outputs": [
    {
     "data": {
      "text/plain": [
       "array([0.02032845, 0.0175991 , 0.05000665, 0.03025319, 0.02152719,\n",
       "       0.3003657 , 0.17227744, 0.18062148, 0.15222508, 0.01031761,\n",
       "       0.04447811])"
      ]
     },
     "execution_count": 4044,
     "metadata": {},
     "output_type": "execute_result"
    }
   ],
   "source": [
    "clf.feature_importances_"
   ]
  },
  {
   "cell_type": "code",
   "execution_count": 4046,
   "id": "dc551137-28a5-4a55-bdc0-f17448bd9df2",
   "metadata": {},
   "outputs": [
    {
     "data": {
      "text/html": [
       "<div>\n",
       "<style scoped>\n",
       "    .dataframe tbody tr th:only-of-type {\n",
       "        vertical-align: middle;\n",
       "    }\n",
       "\n",
       "    .dataframe tbody tr th {\n",
       "        vertical-align: top;\n",
       "    }\n",
       "\n",
       "    .dataframe thead th {\n",
       "        text-align: right;\n",
       "    }\n",
       "</style>\n",
       "<table border=\"1\" class=\"dataframe\">\n",
       "  <thead>\n",
       "    <tr style=\"text-align: right;\">\n",
       "      <th></th>\n",
       "      <th>0</th>\n",
       "    </tr>\n",
       "  </thead>\n",
       "  <tbody>\n",
       "    <tr>\n",
       "      <th>Gender</th>\n",
       "      <td>0.020328</td>\n",
       "    </tr>\n",
       "    <tr>\n",
       "      <th>Married</th>\n",
       "      <td>0.017599</td>\n",
       "    </tr>\n",
       "    <tr>\n",
       "      <th>Dependents</th>\n",
       "      <td>0.050007</td>\n",
       "    </tr>\n",
       "    <tr>\n",
       "      <th>Education</th>\n",
       "      <td>0.030253</td>\n",
       "    </tr>\n",
       "    <tr>\n",
       "      <th>Self_Employed</th>\n",
       "      <td>0.021527</td>\n",
       "    </tr>\n",
       "    <tr>\n",
       "      <th>ApplicantIncome</th>\n",
       "      <td>0.300366</td>\n",
       "    </tr>\n",
       "    <tr>\n",
       "      <th>CoapplicantIncome</th>\n",
       "      <td>0.172277</td>\n",
       "    </tr>\n",
       "    <tr>\n",
       "      <th>LoanAmount</th>\n",
       "      <td>0.180621</td>\n",
       "    </tr>\n",
       "    <tr>\n",
       "      <th>Loan_Amount_Term</th>\n",
       "      <td>0.152225</td>\n",
       "    </tr>\n",
       "    <tr>\n",
       "      <th>Credit_History</th>\n",
       "      <td>0.010318</td>\n",
       "    </tr>\n",
       "    <tr>\n",
       "      <th>Property_Area</th>\n",
       "      <td>0.044478</td>\n",
       "    </tr>\n",
       "  </tbody>\n",
       "</table>\n",
       "</div>"
      ],
      "text/plain": [
       "                          0\n",
       "Gender             0.020328\n",
       "Married            0.017599\n",
       "Dependents         0.050007\n",
       "Education          0.030253\n",
       "Self_Employed      0.021527\n",
       "ApplicantIncome    0.300366\n",
       "CoapplicantIncome  0.172277\n",
       "LoanAmount         0.180621\n",
       "Loan_Amount_Term   0.152225\n",
       "Credit_History     0.010318\n",
       "Property_Area      0.044478"
      ]
     },
     "execution_count": 4046,
     "metadata": {},
     "output_type": "execute_result"
    }
   ],
   "source": [
    "feature_importance = pd.DataFrame(clf.feature_importances_, index = feature_names)\n",
    "feature_importance"
   ]
  },
  {
   "cell_type": "code",
   "execution_count": 4048,
   "id": "d734d096-0d17-47fe-bea0-0f683268c486",
   "metadata": {},
   "outputs": [
    {
     "data": {
      "text/plain": [
       "<Axes: >"
      ]
     },
     "execution_count": 4048,
     "metadata": {},
     "output_type": "execute_result"
    },
    {
     "data": {
      "image/png": "[encoded data removed]",
      "text/plain": [
       "<Figure size 640x480 with 1 Axes>"
      ]
     },
     "metadata": {},
     "output_type": "display_data"
    }
   ],
   "source": [
    "feature_importance.plot(kind='bar')\n",
    "\n",
    "# Applicant income with 0.3 is the most important factor for loan approval\n",
    "# Loan Amount, Coapplicant Income and Loan Amount Term follow with 0.15-0.17"
   ]
  },
  {
   "cell_type": "code",
   "execution_count": 4056,
   "id": "8e2ef43f-e5bb-4496-b405-b6c4d64383c8",
   "metadata": {},
   "outputs": [],
   "source": [
    "### 3.3: Continue with XGBoost\n",
    "\n",
    "import xgboost as xgb\n",
    "from xgboost import XGBClassifier"
   ]
  },
  {
   "cell_type": "code",
   "execution_count": 4058,
   "id": "489e2f7b-0320-4ec3-ba6a-fe5c1f922be3",
   "metadata": {},
   "outputs": [
    {
     "data": {
      "text/plain": [
       "0.20357142857142857"
      ]
     },
     "execution_count": 4058,
     "metadata": {},
     "output_type": "execute_result"
    }
   ],
   "source": [
    "### Calculate the ratio of negative class to positive class\n",
    "\n",
    "ratio = float(y_train.value_counts()[0]) / y_train.value_counts()[1]\n",
    "ratio\n",
    "\n",
    "# Every positive sample mistake the model makes will cost 2 times a negative sample mistake."
   ]
  },
  {
   "cell_type": "code",
   "execution_count": 4060,
   "id": "8f52e723-d09c-45b6-aa70-95fbe12a9a26",
   "metadata": {},
   "outputs": [],
   "source": [
    "# Create an XGBoost classifier with the scale_pos_weight value\n",
    "\n",
    "clf = XGBClassifier(\n",
    "    objective='binary:logistic',\n",
    "    scale_pos_weight=ratio,\n",
    "    eval_metric='auc',\n",
    "    use_label_encoder=True,\n",
    "    random_state=42\n",
    ")\n",
    "clf = clf.fit(X_train, y_train)\n",
    "y_pred = clf.predict(X_test)"
   ]
  },
  {
   "cell_type": "code",
   "execution_count": 4062,
   "id": "e4d92b5c-3514-43a5-8b4a-3a84c99d04e0",
   "metadata": {},
   "outputs": [
    {
     "data": {
      "text/plain": [
       "{'objective': 'binary:logistic',\n",
       " 'base_score': None,\n",
       " 'booster': None,\n",
       " 'callbacks': None,\n",
       " 'colsample_bylevel': None,\n",
       " 'colsample_bynode': None,\n",
       " 'colsample_bytree': None,\n",
       " 'device': None,\n",
       " 'early_stopping_rounds': None,\n",
       " 'enable_categorical': False,\n",
       " 'eval_metric': 'auc',\n",
       " 'feature_types': None,\n",
       " 'feature_weights': None,\n",
       " 'gamma': None,\n",
       " 'grow_policy': None,\n",
       " 'importance_type': None,\n",
       " 'interaction_constraints': None,\n",
       " 'learning_rate': None,\n",
       " 'max_bin': None,\n",
       " 'max_cat_threshold': None,\n",
       " 'max_cat_to_onehot': None,\n",
       " 'max_delta_step': None,\n",
       " 'max_depth': None,\n",
       " 'max_leaves': None,\n",
       " 'min_child_weight': None,\n",
       " 'missing': nan,\n",
       " 'monotone_constraints': None,\n",
       " 'multi_strategy': None,\n",
       " 'n_estimators': None,\n",
       " 'n_jobs': None,\n",
       " 'num_parallel_tree': None,\n",
       " 'random_state': 42,\n",
       " 'reg_alpha': None,\n",
       " 'reg_lambda': None,\n",
       " 'sampling_method': None,\n",
       " 'scale_pos_weight': 0.20357142857142857,\n",
       " 'subsample': None,\n",
       " 'tree_method': None,\n",
       " 'validate_parameters': None,\n",
       " 'verbosity': None}"
      ]
     },
     "execution_count": 4062,
     "metadata": {},
     "output_type": "execute_result"
    }
   ],
   "source": [
    "clf.get_params()"
   ]
  },
  {
   "cell_type": "code",
   "execution_count": 4064,
   "id": "095cfd19-5a6b-4def-8ecb-b79fd9f28e80",
   "metadata": {},
   "outputs": [
    {
     "data": {
      "text/plain": [
       "array([[0.40055108, 0.5994489 ],\n",
       "       [0.13589507, 0.8641049 ],\n",
       "       [0.5234482 , 0.4765518 ],\n",
       "       ...,\n",
       "       [0.36394405, 0.63605595],\n",
       "       [0.4873399 , 0.5126601 ],\n",
       "       [0.21375442, 0.7862456 ]], dtype=float32)"
      ]
     },
     "execution_count": 4064,
     "metadata": {},
     "output_type": "execute_result"
    }
   ],
   "source": [
    "clf.predict_proba(X_test)"
   ]
  },
  {
   "cell_type": "code",
   "execution_count": 4066,
   "id": "ac7f05d5-3282-4847-852a-cbee000265d8",
   "metadata": {},
   "outputs": [
    {
     "data": {
      "text/plain": [
       "0.6720338983050848"
      ]
     },
     "execution_count": 4066,
     "metadata": {},
     "output_type": "execute_result"
    }
   ],
   "source": [
    "### Use performance metrics: accuracy score\n",
    "\n",
    "from sklearn.metrics import accuracy_score\n",
    "accuracy_score(y_test, y_pred)\n",
    "\n",
    "# The model has an accuracy score of 0.81"
   ]
  },
  {
   "cell_type": "code",
   "execution_count": 4068,
   "id": "12419796-f221-4faf-ad17-0cb8e5071a35",
   "metadata": {},
   "outputs": [
    {
     "data": {
      "text/plain": [
       "0.8404494382022472"
      ]
     },
     "execution_count": 4068,
     "metadata": {},
     "output_type": "execute_result"
    }
   ],
   "source": [
    "### Use performance metrics: precision score\n",
    "\n",
    "from sklearn.metrics import precision_score\n",
    "precision_score(y_test, y_pred)\n",
    "\n",
    "# This model has a precision of 0.84"
   ]
  },
  {
   "cell_type": "code",
   "execution_count": 4070,
   "id": "89d060b8-df81-477d-bb98-1a71885cb284",
   "metadata": {},
   "outputs": [
    {
     "data": {
      "text/plain": [
       "array([[ 45, 142],\n",
       "       [245, 748]])"
      ]
     },
     "execution_count": 4070,
     "metadata": {},
     "output_type": "execute_result"
    }
   ],
   "source": [
    "### Use performance metrics: confusion matrix\n",
    "\n",
    "from sklearn.metrics import confusion_matrix\n",
    "confusion_matrix(y_test, y_pred, labels=[0,1])\n",
    "\n",
    "# 0 = classified 4 times, 1 = classified 955 times"
   ]
  },
  {
   "cell_type": "code",
   "execution_count": 4072,
   "id": "32ceaef2-6360-41e0-bb08-c36f2d6b7e08",
   "metadata": {},
   "outputs": [
    {
     "data": {
      "text/plain": [
       "0.7532729103726082"
      ]
     },
     "execution_count": 4072,
     "metadata": {},
     "output_type": "execute_result"
    }
   ],
   "source": [
    "### Use performance metrics: recall score\n",
    "\n",
    "from sklearn.metrics import recall_score\n",
    "recall_score(y_test, y_pred)\n",
    "\n",
    "# The proportion of all actual positives that were classified correctly as positives is 0.96"
   ]
  },
  {
   "cell_type": "code",
   "execution_count": 4074,
   "id": "990df02e-1a80-4007-af75-b7ac527b123d",
   "metadata": {},
   "outputs": [
    {
     "data": {
      "text/plain": [
       "0.7944768985661179"
      ]
     },
     "execution_count": 4074,
     "metadata": {},
     "output_type": "execute_result"
    }
   ],
   "source": [
    "### Use performance metrics: F1-score\n",
    "\n",
    "from sklearn.metrics import f1_score\n",
    "f1_score(y_test, y_pred)\n",
    "\n",
    "# A score of 0.90 indicates a very well-balanced performance, demonstrating that the model can maintain high precision and high recall"
   ]
  },
  {
   "cell_type": "code",
   "execution_count": 4076,
   "id": "18042721-f981-40c0-9f53-a522d002799b",
   "metadata": {},
   "outputs": [
    {
     "data": {
      "text/plain": [
       "0.49695731080127736"
      ]
     },
     "execution_count": 4076,
     "metadata": {},
     "output_type": "execute_result"
    }
   ],
   "source": [
    "### Use performance metrics: ROC-AUC\n",
    "\n",
    "from sklearn.metrics import roc_auc_score, roc_curve, auc\n",
    "roc_auc_score(y_test, y_pred)\n",
    "\n",
    "# The ROC-AUC is 0.5, which is a 50% probability of correctly ranking a random positive and negative example."
   ]
  },
  {
   "cell_type": "code",
   "execution_count": 4078,
   "id": "03285805-5e1a-49d7-9452-74811a3b6c26",
   "metadata": {},
   "outputs": [
    {
     "data": {
      "text/plain": [
       "Index(['Gender', 'Married', 'Dependents', 'Education', 'Self_Employed',\n",
       "       'ApplicantIncome', 'CoapplicantIncome', 'LoanAmount',\n",
       "       'Loan_Amount_Term', 'Credit_History', 'Property_Area'],\n",
       "      dtype='object')"
      ]
     },
     "execution_count": 4078,
     "metadata": {},
     "output_type": "execute_result"
    }
   ],
   "source": [
    "### Use performance metrics: feature importances\n",
    "\n",
    "feature_names = X.columns\n",
    "feature_names"
   ]
  },
  {
   "cell_type": "code",
   "execution_count": 4080,
   "id": "aa8c39a7-1d3d-4907-b0ae-dc74caac3141",
   "metadata": {},
   "outputs": [
    {
     "data": {
      "text/plain": [
       "array([0.1199351 , 0.10031801, 0.07739779, 0.0824065 , 0.12637407,\n",
       "       0.0902312 , 0.07752418, 0.07973543, 0.06916471, 0.09123594,\n",
       "       0.08567712], dtype=float32)"
      ]
     },
     "execution_count": 4080,
     "metadata": {},
     "output_type": "execute_result"
    }
   ],
   "source": [
    "clf.feature_importances_"
   ]
  },
  {
   "cell_type": "code",
   "execution_count": 4082,
   "id": "0b6104e7-57a8-4142-a80f-0b8a112e084e",
   "metadata": {},
   "outputs": [
    {
     "data": {
      "text/html": [
       "<div>\n",
       "<style scoped>\n",
       "    .dataframe tbody tr th:only-of-type {\n",
       "        vertical-align: middle;\n",
       "    }\n",
       "\n",
       "    .dataframe tbody tr th {\n",
       "        vertical-align: top;\n",
       "    }\n",
       "\n",
       "    .dataframe thead th {\n",
       "        text-align: right;\n",
       "    }\n",
       "</style>\n",
       "<table border=\"1\" class=\"dataframe\">\n",
       "  <thead>\n",
       "    <tr style=\"text-align: right;\">\n",
       "      <th></th>\n",
       "      <th>0</th>\n",
       "    </tr>\n",
       "  </thead>\n",
       "  <tbody>\n",
       "    <tr>\n",
       "      <th>Gender</th>\n",
       "      <td>0.119935</td>\n",
       "    </tr>\n",
       "    <tr>\n",
       "      <th>Married</th>\n",
       "      <td>0.100318</td>\n",
       "    </tr>\n",
       "    <tr>\n",
       "      <th>Dependents</th>\n",
       "      <td>0.077398</td>\n",
       "    </tr>\n",
       "    <tr>\n",
       "      <th>Education</th>\n",
       "      <td>0.082406</td>\n",
       "    </tr>\n",
       "    <tr>\n",
       "      <th>Self_Employed</th>\n",
       "      <td>0.126374</td>\n",
       "    </tr>\n",
       "    <tr>\n",
       "      <th>ApplicantIncome</th>\n",
       "      <td>0.090231</td>\n",
       "    </tr>\n",
       "    <tr>\n",
       "      <th>CoapplicantIncome</th>\n",
       "      <td>0.077524</td>\n",
       "    </tr>\n",
       "    <tr>\n",
       "      <th>LoanAmount</th>\n",
       "      <td>0.079735</td>\n",
       "    </tr>\n",
       "    <tr>\n",
       "      <th>Loan_Amount_Term</th>\n",
       "      <td>0.069165</td>\n",
       "    </tr>\n",
       "    <tr>\n",
       "      <th>Credit_History</th>\n",
       "      <td>0.091236</td>\n",
       "    </tr>\n",
       "    <tr>\n",
       "      <th>Property_Area</th>\n",
       "      <td>0.085677</td>\n",
       "    </tr>\n",
       "  </tbody>\n",
       "</table>\n",
       "</div>"
      ],
      "text/plain": [
       "                          0\n",
       "Gender             0.119935\n",
       "Married            0.100318\n",
       "Dependents         0.077398\n",
       "Education          0.082406\n",
       "Self_Employed      0.126374\n",
       "ApplicantIncome    0.090231\n",
       "CoapplicantIncome  0.077524\n",
       "LoanAmount         0.079735\n",
       "Loan_Amount_Term   0.069165\n",
       "Credit_History     0.091236\n",
       "Property_Area      0.085677"
      ]
     },
     "execution_count": 4082,
     "metadata": {},
     "output_type": "execute_result"
    }
   ],
   "source": [
    "feature_importance = pd.DataFrame(clf.feature_importances_, index = feature_names)\n",
    "feature_importance"
   ]
  },
  {
   "cell_type": "code",
   "execution_count": 4084,
   "id": "a38edfd7-d83d-4713-9b5e-bc3bf1ef1b70",
   "metadata": {},
   "outputs": [
    {
     "data": {
      "text/plain": [
       "<Axes: >"
      ]
     },
     "execution_count": 4084,
     "metadata": {},
     "output_type": "execute_result"
    },
    {
     "data": {
      "image/png": "[encoded data removed]",
      "text/plain": [
       "<Figure size 640x480 with 1 Axes>"
      ]
     },
     "metadata": {},
     "output_type": "display_data"
    }
   ],
   "source": [
    "feature_importance.plot(kind='bar')\n",
    "\n",
    "# After scaling, all of the features seem to be equally important. There is not much difference."
   ]
  },
  {
   "cell_type": "code",
   "execution_count": null,
   "id": "c13fbf64-db8f-419c-a412-a1a2da80f27f",
   "metadata": {},
   "outputs": [],
   "source": []
  }
 ],
 "metadata": {
  "kernelspec": {
   "display_name": "Python 3 (ipykernel)",
   "language": "python",
   "name": "python3"
  },
  "language_info": {
   "codemirror_mode": {
    "name": "ipython",
    "version": 3
   },
   "file_extension": ".py",
   "mimetype": "text/x-python",
   "name": "python",
   "nbconvert_exporter": "python",
   "pygments_lexer": "ipython3",
   "version": "3.11.5"
  }
 },
 "nbformat": 4,
 "nbformat_minor": 5
}
